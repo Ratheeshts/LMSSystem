{
 "cells": [
  {
   "cell_type": "code",
   "execution_count": 95,
   "metadata": {},
   "outputs": [
    {
     "data": {
      "image/png": "[encoded data removed]",
      "text/plain": [
       "<Figure size 432x288 with 1 Axes>"
      ]
     },
     "metadata": {
      "needs_background": "light"
     },
     "output_type": "display_data"
    }
   ],
   "source": [
    "import pandas as pd\n",
    "import numpy as np\n",
    "import pandas as pd\n",
    "import string\n",
    "import matplotlib.pyplot as plt\n",
    "from sklearn.cluster import KMeans\n",
    "%matplotlib inline\n",
    "#load data\n",
    "xls = pd.ExcelFile('DATA SAMPLES//data.xlsx')\n",
    "df1 = pd.read_excel(xls, 'learner_static')\n",
    "df2 = pd.read_excel(xls, 'learning_style')\n",
    "learner_data=pd.merge(df1,df2,how='inner',on='Sid')\n",
    "learner_data['Active_Reflective']=''\n",
    "learner_data['Sensitive_Intutive']=''\n",
    "learner_data['Visual_Verbal']=''\n",
    "learner_data['Global_Sequential']=''\n",
    "columns=list(learner_data.columns) \n",
    "columns\n",
    "#check wether value is dominant\n",
    "def isDominant(score):\n",
    "    val=int(score)\n",
    "    score_min=val-50\n",
    "    if score_min>0:\n",
    "        return True\n",
    "    else:\n",
    "        return False\n",
    "\n",
    "def activeOrReflective(score):\n",
    "    if isDominant(score):\n",
    "        return 1\n",
    "    else:\n",
    "        return 0\n",
    "    \n",
    "def sensitiveOrIntutive(score):\n",
    "    if isDominant(score):\n",
    "        return '1'\n",
    "    else:\n",
    "        return '0'\n",
    "def visualOrVerbal(score):\n",
    "    if isDominant(score):\n",
    "        return '1'\n",
    "    else:\n",
    "        return '0'\n",
    "def Global_Sequential(score):\n",
    "    if isDominant(score):\n",
    "        return '1'\n",
    "    else:\n",
    "        return '0'\n",
    "learner_data['Active_Reflective'] = learner_data['Active'].apply(lambda x: activeOrReflective(x))\n",
    "learner_data['Sensitive_Intutive'] =learner_data['Sensitive'].apply(lambda x: sensitiveOrIntutive(int(x)))\n",
    "learner_data['Visual_Verbal'] =learner_data.Visual.apply(lambda x: visualOrVerbal(x))\n",
    "learner_data['Global_Sequential'] =learner_data.Global.apply(lambda x: Global_Sequential(x))\n",
    "Background=list(learner_data['BackgroundKnowledge'].unique())\n",
    "Qualification=list(learner_data['Qualification'].unique())\n",
    "\n",
    "def findBK(bk):\n",
    "    return Background.index(bk)\n",
    "def findQual(qual):\n",
    "    return Qualification.index(qual)\n",
    "learner_data['BackgroundKnowledge'] =learner_data.apply(lambda x: findBK(x['BackgroundKnowledge']), axis=1)\n",
    "learner_data['Qualification'] =learner_data.apply(lambda x: findQual(x['Qualification']), axis=1)\n",
    "\n",
    "x_learner_data=learner_data[['BackgroundKnowledge','Active','Sensitive','Visual',]]\n",
    "ks = range(1, 40)\n",
    "inertias = []\n",
    "for k in ks:\n",
    "    # Create a KMeans instance with k clusters: model\n",
    "    model = KMeans(n_clusters=k)\n",
    "    \n",
    "    # Fit model to samples\n",
    "    model.fit(x_learner_data)\n",
    "    \n",
    "    # Append the inertia to the list of inertias\n",
    "    inertias.append(model.inertia_)\n",
    "    \n",
    "plt.plot(ks, inertias, '-o', color='black')\n",
    "plt.xlabel('number of clusters, k')\n",
    "plt.ylabel('inertia')\n",
    "plt.xticks(ks)\n",
    "plt.show()"
   ]
  },
  {
   "cell_type": "code",
   "execution_count": null,
   "metadata": {},
   "outputs": [],
   "source": []
  },
  {
   "cell_type": "code",
   "execution_count": 234,
   "metadata": {},
   "outputs": [],
   "source": [
    "kmeans5 = KMeans(n_clusters=40, random_state=42)\n",
    "k_predictor= kmeans5.fit(x_learner_data)\n"
   ]
  },
  {
   "cell_type": "code",
   "execution_count": 248,
   "metadata": {},
   "outputs": [
    {
     "data": {
      "text/plain": [
       "array([39])"
      ]
     },
     "execution_count": 248,
     "metadata": {},
     "output_type": "execute_result"
    }
   ],
   "source": [
    "k_predictor.predict(x_learner_data[-1:])"
   ]
  },
  {
   "cell_type": "code",
   "execution_count": 255,
   "metadata": {},
   "outputs": [
    {
     "data": {
      "text/html": [
       "<div>\n",
       "<style scoped>\n",
       "    .dataframe tbody tr th:only-of-type {\n",
       "        vertical-align: middle;\n",
       "    }\n",
       "\n",
       "    .dataframe tbody tr th {\n",
       "        vertical-align: top;\n",
       "    }\n",
       "\n",
       "    .dataframe thead th {\n",
       "        text-align: right;\n",
       "    }\n",
       "</style>\n",
       "<table border=\"1\" class=\"dataframe\">\n",
       "  <thead>\n",
       "    <tr style=\"text-align: right;\">\n",
       "      <th></th>\n",
       "      <th>BackgroundKnowledge</th>\n",
       "      <th>Active</th>\n",
       "      <th>Sensitive</th>\n",
       "      <th>Visual</th>\n",
       "    </tr>\n",
       "  </thead>\n",
       "  <tbody>\n",
       "    <tr>\n",
       "      <th>0</th>\n",
       "      <td>0</td>\n",
       "      <td>70</td>\n",
       "      <td>40</td>\n",
       "      <td>60</td>\n",
       "    </tr>\n",
       "    <tr>\n",
       "      <th>1</th>\n",
       "      <td>0</td>\n",
       "      <td>60</td>\n",
       "      <td>70</td>\n",
       "      <td>20</td>\n",
       "    </tr>\n",
       "    <tr>\n",
       "      <th>2</th>\n",
       "      <td>1</td>\n",
       "      <td>47</td>\n",
       "      <td>62</td>\n",
       "      <td>49</td>\n",
       "    </tr>\n",
       "    <tr>\n",
       "      <th>3</th>\n",
       "      <td>2</td>\n",
       "      <td>30</td>\n",
       "      <td>65</td>\n",
       "      <td>81</td>\n",
       "    </tr>\n",
       "    <tr>\n",
       "      <th>4</th>\n",
       "      <td>0</td>\n",
       "      <td>78</td>\n",
       "      <td>34</td>\n",
       "      <td>23</td>\n",
       "    </tr>\n",
       "    <tr>\n",
       "      <th>...</th>\n",
       "      <td>...</td>\n",
       "      <td>...</td>\n",
       "      <td>...</td>\n",
       "      <td>...</td>\n",
       "    </tr>\n",
       "    <tr>\n",
       "      <th>295</th>\n",
       "      <td>2</td>\n",
       "      <td>66</td>\n",
       "      <td>84</td>\n",
       "      <td>87</td>\n",
       "    </tr>\n",
       "    <tr>\n",
       "      <th>296</th>\n",
       "      <td>2</td>\n",
       "      <td>44</td>\n",
       "      <td>21</td>\n",
       "      <td>77</td>\n",
       "    </tr>\n",
       "    <tr>\n",
       "      <th>297</th>\n",
       "      <td>0</td>\n",
       "      <td>84</td>\n",
       "      <td>39</td>\n",
       "      <td>14</td>\n",
       "    </tr>\n",
       "    <tr>\n",
       "      <th>298</th>\n",
       "      <td>2</td>\n",
       "      <td>54</td>\n",
       "      <td>68</td>\n",
       "      <td>17</td>\n",
       "    </tr>\n",
       "    <tr>\n",
       "      <th>299</th>\n",
       "      <td>2</td>\n",
       "      <td>12</td>\n",
       "      <td>14</td>\n",
       "      <td>76</td>\n",
       "    </tr>\n",
       "  </tbody>\n",
       "</table>\n",
       "<p>300 rows × 4 columns</p>\n",
       "</div>"
      ],
      "text/plain": [
       "     BackgroundKnowledge  Active  Sensitive  Visual\n",
       "0                      0      70         40      60\n",
       "1                      0      60         70      20\n",
       "2                      1      47         62      49\n",
       "3                      2      30         65      81\n",
       "4                      0      78         34      23\n",
       "..                   ...     ...        ...     ...\n",
       "295                    2      66         84      87\n",
       "296                    2      44         21      77\n",
       "297                    0      84         39      14\n",
       "298                    2      54         68      17\n",
       "299                    2      12         14      76\n",
       "\n",
       "[300 rows x 4 columns]"
      ]
     },
     "execution_count": 255,
     "metadata": {},
     "output_type": "execute_result"
    }
   ],
   "source": [
    "x_learner_data.loc[:]"
   ]
  },
  {
   "cell_type": "code",
   "execution_count": 38,
   "metadata": {},
   "outputs": [
    {
     "data": {
      "text/plain": [
       "Text(0, 0.5, 'PCA 2')"
      ]
     },
     "execution_count": 38,
     "metadata": {},
     "output_type": "execute_result"
    },
    {
     "data": {
      "image/png": "[encoded data removed]",
      "text/plain": [
       "<Figure size 432x288 with 1 Axes>"
      ]
     },
     "metadata": {
      "needs_background": "light"
     },
     "output_type": "display_data"
    }
   ],
   "source": [
    "plt.scatter(PCA_components[0], PCA_components[1], alpha=.1, color='black')\n",
    "plt.xlabel('PCA 1')\n",
    "plt.ylabel('PCA 2')"
   ]
  },
  {
   "cell_type": "code",
   "execution_count": 40,
   "metadata": {
    "scrolled": true
   },
   "outputs": [
    {
     "data": {
      "image/png": "[encoded data removed]",
      "text/plain": [
       "<Figure size 432x288 with 1 Axes>"
      ]
     },
     "metadata": {
      "needs_background": "light"
     },
     "output_type": "display_data"
    }
   ],
   "source": [
    "ks = range(1, 30)\n",
    "inertias = []\n",
    "for k in ks:\n",
    "    # Create a KMeans instance with k clusters: model\n",
    "    model = KMeans(n_clusters=k)\n",
    "    \n",
    "    # Fit model to samples\n",
    "    model.fit(PCA_components.iloc[:,:2])\n",
    "    \n",
    "    # Append the inertia to the list of inertias\n",
    "    inertias.append(model.inertia_)\n",
    "    \n",
    "plt.plot(ks, inertias, '-o', color='black')\n",
    "plt.xlabel('number of clusters, k')\n",
    "plt.ylabel('inertia')\n",
    "plt.xticks(ks)\n",
    "plt.show()\n"
   ]
  },
  {
   "cell_type": "code",
   "execution_count": null,
   "metadata": {},
   "outputs": [],
   "source": [
    "y_pca"
   ]
  },
  {
   "cell_type": "code",
   "execution_count": 41,
   "metadata": {},
   "outputs": [
    {
     "data": {
      "text/plain": [
       "array([ 6,  6,  6,  6,  6,  6,  6,  6,  6,  6,  6,  6,  6,  6,  6,  6,  6,\n",
       "        6, 10, 10,  6,  6,  6,  6, 10,  6,  6,  6,  6, 10,  6,  6,  6, 10,\n",
       "       10, 10,  6,  1,  1,  1, 10,  1,  1,  1,  1,  1,  1,  1, 10, 10,  1,\n",
       "        1,  1,  1, 10,  1,  1,  1,  1, 10, 10,  1,  1,  1,  1,  1,  1, 10,\n",
       "       10,  1,  4,  1,  1,  4,  4,  4,  4,  4,  4,  4,  4,  4,  4,  4,  4,\n",
       "        4,  4,  4,  4,  4,  4,  8,  4,  4,  4,  4,  4,  4,  4,  4,  4,  8,\n",
       "        8,  8,  4,  4,  8,  4,  8,  8,  4,  4,  4,  8,  8,  8,  8,  8,  9,\n",
       "        8,  9,  9,  8,  9,  9,  9,  8,  8,  8,  9,  9,  9,  9,  8,  8,  8,\n",
       "        9,  9,  8,  9,  8,  8,  8,  9,  9,  9,  8,  3,  3,  9,  9,  3,  9,\n",
       "        3,  9,  9,  3,  3,  3,  9,  9,  9,  9,  3,  3,  3,  9, 11,  3, 11,\n",
       "        3,  3,  3, 11, 11, 11,  3,  3,  3, 11,  3,  3, 11,  3, 11, 11, 11,\n",
       "        3, 11,  3,  3,  3, 11, 11, 11,  3,  3,  3, 11,  0,  5, 11, 11,  0,\n",
       "       11, 11, 11,  5, 11,  5,  0, 11,  5,  5,  5,  0,  0,  0, 11,  5,  5,\n",
       "        5,  0, 11,  5,  5,  5,  0,  0,  5,  0,  0,  5,  0,  2,  5,  2,  2,\n",
       "        0,  0,  0,  0,  0,  0,  2,  5,  5,  2,  2,  5,  5,  2,  2,  2,  5,\n",
       "        2,  2,  2,  2,  7,  2,  7,  2,  2,  2,  2,  7,  2,  7,  2,  2,  7,\n",
       "        2,  7,  2,  2,  2,  7,  7,  7,  7,  7,  7,  2,  7,  2,  2,  7,  2,\n",
       "        7,  7,  7,  7,  7,  7,  2,  7,  2,  7,  7])"
      ]
     },
     "execution_count": 41,
     "metadata": {},
     "output_type": "execute_result"
    }
   ],
   "source": [
    "model = KMeans(n_clusters=12)\n",
    "y_kmeans5 = model.fit_predict(PCA_components.iloc[:,:2])\n",
    "y_kmeans5"
   ]
  },
  {
   "cell_type": "code",
   "execution_count": 18,
   "metadata": {},
   "outputs": [
    {
     "data": {
      "text/html": [
       "<div>\n",
       "<style scoped>\n",
       "    .dataframe tbody tr th:only-of-type {\n",
       "        vertical-align: middle;\n",
       "    }\n",
       "\n",
       "    .dataframe tbody tr th {\n",
       "        vertical-align: top;\n",
       "    }\n",
       "\n",
       "    .dataframe thead th {\n",
       "        text-align: right;\n",
       "    }\n",
       "</style>\n",
       "<table border=\"1\" class=\"dataframe\">\n",
       "  <thead>\n",
       "    <tr style=\"text-align: right;\">\n",
       "      <th></th>\n",
       "      <th>Sid</th>\n",
       "      <th>Age</th>\n",
       "      <th>Qualification</th>\n",
       "      <th>BackgroundKnowledge</th>\n",
       "      <th>Active</th>\n",
       "      <th>Sensitive</th>\n",
       "      <th>Visual</th>\n",
       "      <th>Global</th>\n",
       "      <th>Active_Reflective</th>\n",
       "      <th>Sensitive_Intutive</th>\n",
       "      <th>Visual_Verbal</th>\n",
       "      <th>Global_Sequential</th>\n",
       "    </tr>\n",
       "  </thead>\n",
       "  <tbody>\n",
       "    <tr>\n",
       "      <th>0</th>\n",
       "      <td>1</td>\n",
       "      <td>18</td>\n",
       "      <td>0</td>\n",
       "      <td>0</td>\n",
       "      <td>70</td>\n",
       "      <td>40</td>\n",
       "      <td>60</td>\n",
       "      <td>51</td>\n",
       "      <td>1</td>\n",
       "      <td>0</td>\n",
       "      <td>1</td>\n",
       "      <td>1</td>\n",
       "    </tr>\n",
       "    <tr>\n",
       "      <th>1</th>\n",
       "      <td>2</td>\n",
       "      <td>19</td>\n",
       "      <td>0</td>\n",
       "      <td>0</td>\n",
       "      <td>60</td>\n",
       "      <td>70</td>\n",
       "      <td>20</td>\n",
       "      <td>40</td>\n",
       "      <td>1</td>\n",
       "      <td>1</td>\n",
       "      <td>0</td>\n",
       "      <td>0</td>\n",
       "    </tr>\n",
       "    <tr>\n",
       "      <th>2</th>\n",
       "      <td>3</td>\n",
       "      <td>17</td>\n",
       "      <td>0</td>\n",
       "      <td>1</td>\n",
       "      <td>47</td>\n",
       "      <td>62</td>\n",
       "      <td>49</td>\n",
       "      <td>28</td>\n",
       "      <td>0</td>\n",
       "      <td>1</td>\n",
       "      <td>0</td>\n",
       "      <td>0</td>\n",
       "    </tr>\n",
       "    <tr>\n",
       "      <th>3</th>\n",
       "      <td>4</td>\n",
       "      <td>19</td>\n",
       "      <td>0</td>\n",
       "      <td>2</td>\n",
       "      <td>30</td>\n",
       "      <td>65</td>\n",
       "      <td>81</td>\n",
       "      <td>36</td>\n",
       "      <td>0</td>\n",
       "      <td>1</td>\n",
       "      <td>1</td>\n",
       "      <td>0</td>\n",
       "    </tr>\n",
       "    <tr>\n",
       "      <th>4</th>\n",
       "      <td>5</td>\n",
       "      <td>18</td>\n",
       "      <td>0</td>\n",
       "      <td>0</td>\n",
       "      <td>78</td>\n",
       "      <td>34</td>\n",
       "      <td>23</td>\n",
       "      <td>87</td>\n",
       "      <td>1</td>\n",
       "      <td>0</td>\n",
       "      <td>0</td>\n",
       "      <td>1</td>\n",
       "    </tr>\n",
       "  </tbody>\n",
       "</table>\n",
       "</div>"
      ],
      "text/plain": [
       "   Sid  Age  Qualification  BackgroundKnowledge  Active  Sensitive  Visual  \\\n",
       "0    1   18              0                    0      70         40      60   \n",
       "1    2   19              0                    0      60         70      20   \n",
       "2    3   17              0                    1      47         62      49   \n",
       "3    4   19              0                    2      30         65      81   \n",
       "4    5   18              0                    0      78         34      23   \n",
       "\n",
       "   Global  Active_Reflective Sensitive_Intutive Visual_Verbal  \\\n",
       "0      51                  1                  0             1   \n",
       "1      40                  1                  1             0   \n",
       "2      28                  0                  1             0   \n",
       "3      36                  0                  1             1   \n",
       "4      87                  1                  0             0   \n",
       "\n",
       "  Global_Sequential  \n",
       "0                 1  \n",
       "1                 0  \n",
       "2                 0  \n",
       "3                 0  \n",
       "4                 1  "
      ]
     },
     "execution_count": 18,
     "metadata": {},
     "output_type": "execute_result"
    }
   ],
   "source": [
    "x_data"
   ]
  },
  {
   "cell_type": "code",
   "execution_count": 64,
   "metadata": {},
   "outputs": [
    {
     "name": "stdout",
     "output_type": "stream",
     "text": [
      "120\n"
     ]
    }
   ],
   "source": [
    "product = lambda x, y : x[0] * y[1]\n",
    "\n",
    "print(product([12,10], [3,10]))"
   ]
  },
  {
   "cell_type": "code",
   "execution_count": 62,
   "metadata": {},
   "outputs": [
    {
     "name": "stdout",
     "output_type": "stream",
     "text": [
      "doing stuff\n",
      "15\n"
     ]
    }
   ],
   "source": [
    "blank_fn = lambda *args, **kwargs: kwargs['z']\n",
    "\n",
    "\n",
    "def perform_task(callback=blank_fn):\n",
    "    print ('doing stuff')\n",
    "    y=callback(10, 20, z=15)\n",
    "    print(y)\n",
    "perform_task()"
   ]
  },
  {
   "cell_type": "code",
   "execution_count": null,
   "metadata": {},
   "outputs": [],
   "source": []
  }
 ],
 "metadata": {
  "kernelspec": {
   "display_name": "Python 3",
   "language": "python",
   "name": "python3"
  },
  "language_info": {
   "codemirror_mode": {
    "name": "ipython",
    "version": 3
   },
   "file_extension": ".py",
   "mimetype": "text/x-python",
   "name": "python",
   "nbconvert_exporter": "python",
   "pygments_lexer": "ipython3",
   "version": "3.6.10"
  }
 },
 "nbformat": 4,
 "nbformat_minor": 4
}
