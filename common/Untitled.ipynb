{
 "cells": [
  {
   "cell_type": "code",
   "execution_count": 1,
   "metadata": {},
   "outputs": [
    {
     "ename": "ModuleNotFoundError",
     "evalue": "No module named 'learner'",
     "output_type": "error",
     "traceback": [
      "\u001b[1;31m---------------------------------------------------------------------------\u001b[0m",
      "\u001b[1;31mModuleNotFoundError\u001b[0m                       Traceback (most recent call last)",
      "\u001b[1;32m<ipython-input-1-76c554126421>\u001b[0m in \u001b[0;36m<module>\u001b[1;34m\u001b[0m\n\u001b[0;32m      6\u001b[0m \u001b[1;32mimport\u001b[0m \u001b[0mstring\u001b[0m\u001b[1;33m\u001b[0m\u001b[1;33m\u001b[0m\u001b[0m\n\u001b[0;32m      7\u001b[0m \u001b[1;32mfrom\u001b[0m \u001b[0msklearn\u001b[0m\u001b[1;33m.\u001b[0m\u001b[0mcluster\u001b[0m \u001b[1;32mimport\u001b[0m \u001b[0mKMeans\u001b[0m\u001b[1;33m\u001b[0m\u001b[1;33m\u001b[0m\u001b[0m\n\u001b[1;32m----> 8\u001b[1;33m \u001b[1;32mfrom\u001b[0m \u001b[0mlearner\u001b[0m\u001b[1;33m.\u001b[0m\u001b[0mmodels\u001b[0m \u001b[1;32mimport\u001b[0m \u001b[0mLearner\u001b[0m\u001b[1;33m,\u001b[0m\u001b[0mLearningMaterial\u001b[0m\u001b[1;33m,\u001b[0m\u001b[0mLearning_Style\u001b[0m\u001b[1;33m,\u001b[0m\u001b[0mSession_Log\u001b[0m\u001b[1;33m,\u001b[0m\u001b[0mLearning_Session\u001b[0m\u001b[1;33m\u001b[0m\u001b[1;33m\u001b[0m\u001b[0m\n\u001b[0m\u001b[0;32m      9\u001b[0m \u001b[1;32mfrom\u001b[0m \u001b[0mdjango\u001b[0m\u001b[1;33m.\u001b[0m\u001b[0mshortcuts\u001b[0m \u001b[1;32mimport\u001b[0m \u001b[0mrender\u001b[0m\u001b[1;33m\u001b[0m\u001b[1;33m\u001b[0m\u001b[0m\n\u001b[0;32m     10\u001b[0m \u001b[1;32mfrom\u001b[0m \u001b[0mdjango\u001b[0m\u001b[1;33m.\u001b[0m\u001b[0mapps\u001b[0m \u001b[1;32mimport\u001b[0m \u001b[0mapps\u001b[0m\u001b[1;33m\u001b[0m\u001b[1;33m\u001b[0m\u001b[0m\n",
      "\u001b[1;31mModuleNotFoundError\u001b[0m: No module named 'learner'"
     ]
    }
   ],
   "source": [
    "from django.shortcuts import render\n",
    "import datetime\n",
    "import itertools  \n",
    "import os,pandas as pd\n",
    "import numpy as np\n",
    "import string\n",
    "from sklearn.cluster import KMeans\n",
    "from learner.models import Learner,LearningMaterial,Learning_Style,Session_Log,Learning_Session\n",
    "from django.shortcuts import render\n",
    "from django.apps import apps\n",
    "from django.http import JsonResponse\n",
    "from django.core.files.storage import default_storage\n",
    "from django.core.files.storage import FileSystemStorage\n",
    "from django.forms import Form\n",
    "from django.core.paginator import Paginator\n",
    "from LMSSystem import settings\n",
    "from django.http import HttpResponse\n",
    "try:\n",
    "    from io import BytesIO as IO # for modern python\n",
    "except ImportError:\n",
    "    from io import StringIO as IO # for legacy python\n"
   ]
  },
  {
   "cell_type": "code",
   "execution_count": null,
   "metadata": {},
   "outputs": [],
   "source": []
  }
 ],
 "metadata": {
  "kernelspec": {
   "display_name": "Python 3",
   "language": "python",
   "name": "python3"
  },
  "language_info": {
   "codemirror_mode": {
    "name": "ipython",
    "version": 3
   },
   "file_extension": ".py",
   "mimetype": "text/x-python",
   "name": "python",
   "nbconvert_exporter": "python",
   "pygments_lexer": "ipython3",
   "version": "3.6.10"
  }
 },
 "nbformat": 4,
 "nbformat_minor": 4
}
