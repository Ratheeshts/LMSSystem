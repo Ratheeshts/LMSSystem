{
 "cells": [
  {
   "cell_type": "code",
   "execution_count": 17,
   "metadata": {},
   "outputs": [
    {
     "data": {
      "text/html": [
       "<div>\n",
       "<style scoped>\n",
       "    .dataframe tbody tr th:only-of-type {\n",
       "        vertical-align: middle;\n",
       "    }\n",
       "\n",
       "    .dataframe tbody tr th {\n",
       "        vertical-align: top;\n",
       "    }\n",
       "\n",
       "    .dataframe thead th {\n",
       "        text-align: right;\n",
       "    }\n",
       "</style>\n",
       "<table border=\"1\" class=\"dataframe\">\n",
       "  <thead>\n",
       "    <tr style=\"text-align: right;\">\n",
       "      <th></th>\n",
       "      <th>sid</th>\n",
       "      <th>Name</th>\n",
       "      <th>bk</th>\n",
       "      <th>a</th>\n",
       "      <th>b</th>\n",
       "      <th>c</th>\n",
       "      <th>d</th>\n",
       "    </tr>\n",
       "  </thead>\n",
       "  <tbody>\n",
       "    <tr>\n",
       "      <th>0</th>\n",
       "      <td>11</td>\n",
       "      <td>raju</td>\n",
       "      <td>100</td>\n",
       "      <td>80</td>\n",
       "      <td>38</td>\n",
       "      <td>34</td>\n",
       "      <td>45</td>\n",
       "    </tr>\n",
       "    <tr>\n",
       "      <th>1</th>\n",
       "      <td>11</td>\n",
       "      <td>rajdu</td>\n",
       "      <td>1100</td>\n",
       "      <td>80</td>\n",
       "      <td>38</td>\n",
       "      <td>34</td>\n",
       "      <td>45</td>\n",
       "    </tr>\n",
       "    <tr>\n",
       "      <th>2</th>\n",
       "      <td>11</td>\n",
       "      <td>radju</td>\n",
       "      <td>0</td>\n",
       "      <td>70</td>\n",
       "      <td>38</td>\n",
       "      <td>34</td>\n",
       "      <td>45</td>\n",
       "    </tr>\n",
       "    <tr>\n",
       "      <th>3</th>\n",
       "      <td>11</td>\n",
       "      <td>radsju</td>\n",
       "      <td>100</td>\n",
       "      <td>80</td>\n",
       "      <td>38</td>\n",
       "      <td>34</td>\n",
       "      <td>45</td>\n",
       "    </tr>\n",
       "  </tbody>\n",
       "</table>\n",
       "</div>"
      ],
      "text/plain": [
       "   sid    Name    bk   a   b   c   d\n",
       "0   11    raju   100  80  38  34  45\n",
       "1   11   rajdu  1100  80  38  34  45\n",
       "2   11   radju     0  70  38  34  45\n",
       "3   11  radsju   100  80  38  34  45"
      ]
     },
     "execution_count": 17,
     "metadata": {},
     "output_type": "execute_result"
    }
   ],
   "source": [
    "import numpy as np\n",
    "import pandas as pd\n",
    "import string\n",
    "from sklearn.cluster import KMeans\n",
    "x=[[11,'raju',100,80,38,34,45],[11,'rajdu',1100,80,38,34,45],[11,'radju',0,70,38,34,45],[11,'radsju',100,80,38,34,45]]\n",
    "pd.DataFrame(x,columns=['sid','Name','bk','a','b','c','d'])"
   ]
  },
  {
   "cell_type": "code",
   "execution_count": 18,
   "metadata": {},
   "outputs": [],
   "source": [
    "y=[('L1', 'Intermediate', 1), ('L2', 'Intermediate', 2), ('L3', 'Expert', 3), ('L4', 'Basic', 4), ('L5', 'Intermediate', 5), ('L6', 'Expert', 6), ('L7', 'Basic', 7), ('L8', 'Intermediate', 8), ('L9', 'Expert', 9), ('L10', 'Intermediate', 10), ('L11', 'Basic', 11), ('L12', 'Intermediate', 12), ('L13', 'Intermediate', 13), ('L14', 'Intermediate', 14), ('L15', 'Intermediate', 15), ('L16', 'Expert', 16), ('L17', 'Intermediate', 17), ('L18', 'Basic', 18), ('L19', 'Expert', 19), ('L20', 'Intermediate', 20)]"
   ]
  },
  {
   "cell_type": "code",
   "execution_count": 19,
   "metadata": {},
   "outputs": [
    {
     "data": {
      "text/html": [
       "<div>\n",
       "<style scoped>\n",
       "    .dataframe tbody tr th:only-of-type {\n",
       "        vertical-align: middle;\n",
       "    }\n",
       "\n",
       "    .dataframe tbody tr th {\n",
       "        vertical-align: top;\n",
       "    }\n",
       "\n",
       "    .dataframe thead th {\n",
       "        text-align: right;\n",
       "    }\n",
       "</style>\n",
       "<table border=\"1\" class=\"dataframe\">\n",
       "  <thead>\n",
       "    <tr style=\"text-align: right;\">\n",
       "      <th></th>\n",
       "      <th>0</th>\n",
       "      <th>1</th>\n",
       "      <th>2</th>\n",
       "    </tr>\n",
       "  </thead>\n",
       "  <tbody>\n",
       "    <tr>\n",
       "      <th>0</th>\n",
       "      <td>L1</td>\n",
       "      <td>Intermediate</td>\n",
       "      <td>1</td>\n",
       "    </tr>\n",
       "    <tr>\n",
       "      <th>1</th>\n",
       "      <td>L2</td>\n",
       "      <td>Intermediate</td>\n",
       "      <td>2</td>\n",
       "    </tr>\n",
       "    <tr>\n",
       "      <th>2</th>\n",
       "      <td>L3</td>\n",
       "      <td>Expert</td>\n",
       "      <td>3</td>\n",
       "    </tr>\n",
       "    <tr>\n",
       "      <th>3</th>\n",
       "      <td>L4</td>\n",
       "      <td>Basic</td>\n",
       "      <td>4</td>\n",
       "    </tr>\n",
       "    <tr>\n",
       "      <th>4</th>\n",
       "      <td>L5</td>\n",
       "      <td>Intermediate</td>\n",
       "      <td>5</td>\n",
       "    </tr>\n",
       "    <tr>\n",
       "      <th>5</th>\n",
       "      <td>L6</td>\n",
       "      <td>Expert</td>\n",
       "      <td>6</td>\n",
       "    </tr>\n",
       "    <tr>\n",
       "      <th>6</th>\n",
       "      <td>L7</td>\n",
       "      <td>Basic</td>\n",
       "      <td>7</td>\n",
       "    </tr>\n",
       "    <tr>\n",
       "      <th>7</th>\n",
       "      <td>L8</td>\n",
       "      <td>Intermediate</td>\n",
       "      <td>8</td>\n",
       "    </tr>\n",
       "    <tr>\n",
       "      <th>8</th>\n",
       "      <td>L9</td>\n",
       "      <td>Expert</td>\n",
       "      <td>9</td>\n",
       "    </tr>\n",
       "    <tr>\n",
       "      <th>9</th>\n",
       "      <td>L10</td>\n",
       "      <td>Intermediate</td>\n",
       "      <td>10</td>\n",
       "    </tr>\n",
       "    <tr>\n",
       "      <th>10</th>\n",
       "      <td>L11</td>\n",
       "      <td>Basic</td>\n",
       "      <td>11</td>\n",
       "    </tr>\n",
       "    <tr>\n",
       "      <th>11</th>\n",
       "      <td>L12</td>\n",
       "      <td>Intermediate</td>\n",
       "      <td>12</td>\n",
       "    </tr>\n",
       "    <tr>\n",
       "      <th>12</th>\n",
       "      <td>L13</td>\n",
       "      <td>Intermediate</td>\n",
       "      <td>13</td>\n",
       "    </tr>\n",
       "    <tr>\n",
       "      <th>13</th>\n",
       "      <td>L14</td>\n",
       "      <td>Intermediate</td>\n",
       "      <td>14</td>\n",
       "    </tr>\n",
       "    <tr>\n",
       "      <th>14</th>\n",
       "      <td>L15</td>\n",
       "      <td>Intermediate</td>\n",
       "      <td>15</td>\n",
       "    </tr>\n",
       "    <tr>\n",
       "      <th>15</th>\n",
       "      <td>L16</td>\n",
       "      <td>Expert</td>\n",
       "      <td>16</td>\n",
       "    </tr>\n",
       "    <tr>\n",
       "      <th>16</th>\n",
       "      <td>L17</td>\n",
       "      <td>Intermediate</td>\n",
       "      <td>17</td>\n",
       "    </tr>\n",
       "    <tr>\n",
       "      <th>17</th>\n",
       "      <td>L18</td>\n",
       "      <td>Basic</td>\n",
       "      <td>18</td>\n",
       "    </tr>\n",
       "    <tr>\n",
       "      <th>18</th>\n",
       "      <td>L19</td>\n",
       "      <td>Expert</td>\n",
       "      <td>19</td>\n",
       "    </tr>\n",
       "    <tr>\n",
       "      <th>19</th>\n",
       "      <td>L20</td>\n",
       "      <td>Intermediate</td>\n",
       "      <td>20</td>\n",
       "    </tr>\n",
       "  </tbody>\n",
       "</table>\n",
       "</div>"
      ],
      "text/plain": [
       "      0             1   2\n",
       "0    L1  Intermediate   1\n",
       "1    L2  Intermediate   2\n",
       "2    L3        Expert   3\n",
       "3    L4         Basic   4\n",
       "4    L5  Intermediate   5\n",
       "5    L6        Expert   6\n",
       "6    L7         Basic   7\n",
       "7    L8  Intermediate   8\n",
       "8    L9        Expert   9\n",
       "9   L10  Intermediate  10\n",
       "10  L11         Basic  11\n",
       "11  L12  Intermediate  12\n",
       "12  L13  Intermediate  13\n",
       "13  L14  Intermediate  14\n",
       "14  L15  Intermediate  15\n",
       "15  L16        Expert  16\n",
       "16  L17  Intermediate  17\n",
       "17  L18         Basic  18\n",
       "18  L19        Expert  19\n",
       "19  L20  Intermediate  20"
      ]
     },
     "execution_count": 19,
     "metadata": {},
     "output_type": "execute_result"
    }
   ],
   "source": [
    "pd.DataFrame(y)"
   ]
  },
  {
   "cell_type": "code",
   "execution_count": 20,
   "metadata": {},
   "outputs": [],
   "source": [
    "R=('L1', 'Intermediate', 1)"
   ]
  },
  {
   "cell_type": "code",
   "execution_count": 21,
   "metadata": {},
   "outputs": [
    {
     "data": {
      "text/plain": [
       "1"
      ]
     },
     "execution_count": 21,
     "metadata": {},
     "output_type": "execute_result"
    }
   ],
   "source": [
    "R[2]"
   ]
  },
  {
   "cell_type": "code",
   "execution_count": 22,
   "metadata": {},
   "outputs": [],
   "source": [
    "y= [['1', 'Intermediate', 70, 40, 51, 60], ['2', 'Intermediate', 60, 70, 40, 20], ['3', 'Expert', 47, 62, 28, 49], ['4', 'Basic', 30, 65, 36, 81], ['5', 'Intermediate', 78, 34, 87, 23], ['6', 'Expert', 34, 58, 74, 44], ['7', 'Basic', 87, 33, 65, 55], ['8', 'Intermediate', 84, 87, 69, 76], ['9', 'Expert', 23, 84, 34, 24], ['10', 'Intermediate', 65, 76, 45, 58], ['11', 'Basic', 65, 86, 47, 64], ['12', 'Intermediate', 75, 34, 62, 22], ['13', 'Intermediate', 56, 54, 57, 81], ['14', 'Intermediate', 54, 45, 24, 54], ['15', 'Intermediate', 55, 54, 64, 87], ['16', 'Expert', 51, 82, 54, 45], ['17', 'Intermediate', 59, 25, 25, 79], ['18', 'Basic', 85, 46, 26, 84], ['19', 'Expert', 63, 16, 65, 57], ['20', 'Intermediate', 19, 68, 83, 46], ['21', 'Expert', 84, 87, 69, 76], ['22', 'Intermediate', 23, 84, 34, 24], ['23', 'Intermediate', 65, 76, 45, 58], ['24', 'Intermediate', 65, 86, 47, 64], ['25', 'Intermediate', 75, 34, 62, 22], ['26', 'Basic', 56, 54, 57, 81], ['27', 'Intermediate', 54, 45, 24, 54], ['28', 'Basic', 55, 54, 64, 87], ['29', 'Basic', 51, 82, 54, 45], ['30', 'Intermediate', 65, 36, 88, 71], ['31', 'Intermediate', 70, 45, 58, 67], ['32', 'Intermediate', 67, 70, 40, 20], ['33', 'Expert', 47, 62, 28, 49], ['34', 'Basic', 30, 46, 36, 81], ['35', 'Intermediate', 78, 34, 87, 17], ['36', 'Expert', 34, 34, 74, 76], ['37', 'Basic', 87, 44, 65, 55], ['38', 'Intermediate', 84, 87, 69, 54], ['39', 'Expert', 23, 84, 34, 24], ['40', 'Intermediate', 65, 67, 45, 58], ['42', 'Intermediate', 75, 34, 62, 22], ['44', 'Intermediate', 54, 57, 24, 54], ['45', 'Intermediate', 55, 54, 64, 87], ['46', 'Expert', 65, 86, 47, 64], ['47', 'Intermediate', 59, 32, 25, 79], ['48', 'Basic', 85, 46, 26, 84], ['49', 'Expert', 63, 16, 65, 57], ['50', 'Intermediate', 19, 68, 83, 46], ['51', 'Expert', 84, 87, 69, 76], ['52', 'Intermediate', 23, 84, 34, 19], ['53', 'Intermediate', 65, 76, 45, 58], ['55', 'Intermediate', 75, 34, 62, 22], ['56', 'Basic', 56, 80, 57, 81], ['57', 'Intermediate', 54, 45, 24, 54], ['58', 'Basic', 75, 54, 64, 87], ['59', 'Basic', 51, 82, 54, 45], ['60', 'Intermediate', 65, 41, 88, 71], ['61', 'Basic', 75, 34, 62, 22], ['62', 'Expert', 56, 54, 57, 81], ['63', 'Intermediate', 54, 45, 24, 54], ['64', 'Expert', 55, 54, 64, 87], ['65', 'Intermediate', 51, 82, 54, 45], ['66', 'Intermediate', 59, 25, 25, 79], ['67', 'Intermediate', 85, 46, 26, 84], ['68', 'Intermediate', 63, 16, 65, 57], ['69', 'Basic', 19, 68, 83, 46], ['70', 'Intermediate', 84, 87, 69, 76], ['71', 'Basic', 23, 84, 34, 24], ['72', 'Basic', 65, 76, 45, 58], ['73', 'Intermediate', 65, 86, 47, 64], ['74', 'Intermediate', 75, 34, 62, 22], ['75', 'Intermediate', 56, 54, 57, 81], ['76', 'Expert', 54, 45, 24, 54], ['77', 'Basic', 55, 54, 64, 87], ['78', 'Intermediate', 51, 82, 54, 45], ['79', 'Basic', 65, 36, 88, 71], ['80', 'Expert', 70, 45, 58, 67], ['81', 'Intermediate', 75, 34, 62, 22], ['82', 'Expert', 56, 54, 57, 81], ['83', 'Intermediate', 54, 45, 24, 54], ['84', 'Intermediate', 55, 54, 64, 87], ['85', 'Intermediate', 51, 82, 54, 45], ['86', 'Intermediate', 65, 36, 88, 71], ['87', 'Basic', 70, 45, 58, 67], ['88', 'Intermediate', 67, 70, 40, 20], ['89', 'Basic', 47, 62, 28, 49], ['90', 'Basic', 30, 46, 36, 81], ['91', 'Intermediate', 78, 34, 87, 17], ['92', 'Intermediate', 34, 34, 74, 76], ['93', 'Intermediate', 87, 44, 65, 55], ['94', 'Expert', 84, 87, 69, 54], ['95', 'Basic', 23, 84, 34, 24], ['96', 'Intermediate', 65, 67, 45, 58], ['97', 'Basic', 76, 86, 29, 43], ['98', 'Expert', 75, 34, 62, 22], ['99', 'Basic', 76, 37, 49, 69], ['100', 'Intermediate', 54, 57, 24, 54], ['101', 'Expert', 46, 72, 26, 90], ['102', 'Basic', 12, 37, 21, 69], ['103', 'Intermediate', 38, 21, 86, 87], ['104', 'Expert', 28, 23, 89, 79], ['105', 'Intermediate', 42, 32, 16, 94], ['106', 'Basic', 77, 32, 69, 87], ['107', 'Intermediate', 66, 22, 88, 77], ['108', 'Intermediate', 44, 94, 35, 14], ['109', 'Intermediate', 84, 26, 79, 17], ['110', 'Expert', 54, 18, 49, 76], ['111', 'Intermediate', 12, 75, 22, 34], ['112', 'Expert', 76, 76, 69, 37], ['113', 'Intermediate', 82, 54, 54, 57], ['114', 'Intermediate', 36, 46, 90, 72], ['115', 'Intermediate', 29, 12, 69, 37], ['116', 'Intermediate', 80, 38, 87, 21], ['117', 'Basic', 20, 28, 79, 23], ['118', 'Intermediate', 34, 42, 94, 32], ['119', 'Basic', 84, 77, 87, 32], ['120', 'Basic', 21, 66, 77, 22], ['121', 'Intermediate', 39, 44, 14, 94], ['122', 'Intermediate', 68, 84, 17, 26], ['123', 'Expert', 14, 54, 76, 18], ['124', 'Basic', 78, 12, 34, 75], ['125', 'Intermediate', 17, 76, 37, 76], ['126', 'Expert', 51, 51, 40, 70], ['127', 'Basic', 40, 40, 70, 60], ['128', 'Intermediate', 28, 28, 62, 47], ['129', 'Expert', 36, 36, 65, 30], ['130', 'Intermediate', 87, 87, 34, 78], ['131', 'Basic', 74, 74, 58, 34], ['132', 'Intermediate', 65, 65, 33, 87], ['133', 'Intermediate', 69, 69, 87, 84], ['134', 'Intermediate', 34, 34, 84, 23], ['135', 'Intermediate', 45, 45, 76, 65], ['136', 'Expert', 47, 47, 86, 65], ['137', 'Intermediate', 62, 62, 34, 75], ['138', 'Basic', 57, 57, 54, 56], ['139', 'Expert', 24, 24, 45, 54], ['140', 'Intermediate', 64, 64, 54, 55], ['141', 'Expert', 54, 54, 82, 51], ['142', 'Intermediate', 25, 25, 25, 59], ['143', 'Intermediate', 26, 26, 46, 85], ['144', 'Intermediate', 65, 65, 16, 63], ['145', 'Intermediate', 83, 83, 68, 19], ['146', 'Basic', 69, 69, 87, 84], ['147', 'Intermediate', 34, 34, 84, 23], ['148', 'Basic', 45, 45, 76, 65], ['149', 'Basic', 47, 47, 86, 65], ['150', 'Intermediate', 62, 62, 34, 75], ['151', 'Expert', 57, 57, 54, 56], ['152', 'Intermediate', 24, 24, 45, 54], ['153', 'Basic', 64, 64, 54, 55], ['154', 'Expert', 54, 54, 82, 51], ['155', 'Intermediate', 88, 88, 36, 65], ['156', 'Expert', 58, 58, 45, 70], ['157', 'Intermediate', 40, 40, 70, 67], ['158', 'Intermediate', 28, 28, 62, 47], ['159', 'Intermediate', 36, 36, 46, 30], ['160', 'Intermediate', 87, 87, 34, 78], ['161', 'Basic', 74, 74, 34, 34], ['162', 'Intermediate', 65, 65, 44, 87], ['163', 'Basic', 69, 69, 87, 84], ['164', 'Basic', 34, 34, 84, 23], ['165', 'Intermediate', 45, 45, 67, 65], ['166', 'Basic', 29, 29, 86, 76], ['167', 'Expert', 62, 62, 34, 75], ['168', 'Intermediate', 49, 49, 37, 76], ['169', 'Expert', 24, 24, 57, 54], ['170', 'Intermediate', 64, 64, 54, 55], ['171', 'Intermediate', 54, 54, 82, 68], ['172', 'Intermediate', 25, 25, 32, 59], ['173', 'Intermediate', 26, 26, 46, 85], ['174', 'Expert', 65, 65, 16, 63], ['175', 'Basic', 83, 83, 68, 19], ['176', 'Intermediate', 69, 69, 87, 84], ['177', 'Expert', 34, 34, 84, 23], ['178', 'Basic', 45, 45, 76, 65], ['179', 'Intermediate', 47, 47, 86, 65], ['180', 'Expert', 62, 62, 34, 75], ['181', 'Intermediate', 57, 57, 80, 56], ['182', 'Basic', 24, 24, 45, 54], ['183', 'Intermediate', 64, 64, 54, 75], ['184', 'Intermediate', 54, 54, 82, 51], ['185', 'Intermediate', 88, 88, 41, 65], ['186', 'Intermediate', 62, 62, 34, 75], ['187', 'Expert', 57, 57, 54, 56], ['188', 'Intermediate', 24, 24, 45, 54], ['189', 'Basic', 64, 64, 54, 55], ['190', 'Expert', 54, 54, 82, 51], ['191', 'Intermediate', 25, 25, 25, 59], ['192', 'Expert', 26, 26, 46, 85], ['193', 'Intermediate', 65, 65, 16, 63], ['194', 'Intermediate', 83, 83, 68, 19], ['195', 'Intermediate', 69, 69, 87, 84], ['196', 'Intermediate', 34, 34, 84, 23], ['197', 'Basic', 45, 45, 76, 65], ['198', 'Intermediate', 47, 47, 86, 65], ['199', 'Basic', 62, 62, 34, 75], ['200', 'Basic', 82, 75, 16, 91], ['201', 'Intermediate', 24, 24, 45, 54], ['202', 'Basic', 64, 64, 54, 55], ['203', 'Expert', 54, 54, 82, 51], ['204', 'Intermediate', 88, 88, 36, 65], ['205', 'Expert', 58, 58, 45, 70], ['206', 'Intermediate', 62, 62, 34, 75], ['207', 'Intermediate', 57, 57, 54, 56], ['208', 'Intermediate', 24, 24, 45, 54], ['209', 'Intermediate', 64, 64, 54, 55], ['210', 'Basic', 54, 54, 82, 51], ['211', 'Intermediate', 88, 88, 36, 65], ['212', 'Basic', 58, 58, 45, 70], ['213', 'Basic', 40, 40, 70, 67], ['214', 'Intermediate', 28, 28, 62, 47], ['215', 'Intermediate', 36, 36, 46, 30], ['216', 'Intermediate', 87, 87, 34, 78], ['217', 'Expert', 74, 74, 34, 34], ['218', 'Basic', 65, 65, 44, 87], ['219', 'Intermediate', 69, 69, 87, 84], ['220', 'Basic', 34, 34, 84, 23], ['221', 'Expert', 45, 45, 67, 65], ['222', 'Intermediate', 29, 29, 86, 76], ['223', 'Expert', 62, 62, 34, 75], ['224', 'Intermediate', 49, 49, 37, 76], ['225', 'Intermediate', 24, 24, 57, 54], ['226', 'Intermediate', 26, 26, 72, 46], ['227', 'Intermediate', 21, 21, 37, 12], ['228', 'Basic', 86, 86, 21, 38], ['229', 'Intermediate', 89, 89, 23, 28], ['230', 'Basic', 16, 16, 32, 42], ['231', 'Basic', 69, 69, 32, 77], ['232', 'Intermediate', 88, 88, 22, 66], ['233', 'Intermediate', 35, 35, 94, 44], ['234', 'Intermediate', 79, 79, 26, 84], ['235', 'Expert', 49, 49, 18, 54], ['236', 'Basic', 22, 22, 75, 12], ['237', 'Intermediate', 69, 69, 76, 76], ['238', 'Expert', 54, 54, 54, 82], ['239', 'Basic', 90, 90, 46, 36], ['240', 'Intermediate', 69, 69, 12, 29], ['241', 'Basic', 87, 87, 38, 80], ['242', 'Expert', 79, 79, 28, 20], ['243', 'Intermediate', 94, 94, 42, 34], ['244', 'Expert', 87, 87, 77, 84], ['245', 'Intermediate', 77, 77, 66, 21], ['246', 'Intermediate', 14, 14, 44, 39], ['247', 'Intermediate', 17, 17, 84, 68], ['248', 'Intermediate', 76, 76, 54, 14], ['249', 'Basic', 34, 34, 12, 78], ['250', 'Intermediate', 37, 37, 76, 17], ['251', 'Basic', 16, 75, 82, 62], ['252', 'Basic', 45, 91, 24, 75], ['253', 'Intermediate', 54, 54, 64, 24], ['254', 'Intermediate', 82, 55, 54, 64], ['255', 'Intermediate', 36, 51, 88, 54], ['256', 'Expert', 45, 65, 58, 88], ['257', 'Basic', 34, 70, 62, 58], ['258', 'Intermediate', 54, 75, 57, 62], ['259', 'Basic', 45, 56, 24, 57], ['260', 'Expert', 54, 54, 64, 24], ['261', 'Basic', 82, 55, 54, 64], ['262', 'Intermediate', 36, 51, 88, 54], ['263', 'Expert', 45, 65, 58, 88], ['264', 'Intermediate', 70, 70, 40, 58], ['265', 'Expert', 62, 67, 28, 40], ['266', 'Intermediate', 46, 47, 36, 28], ['267', 'Intermediate', 34, 30, 87, 36], ['268', 'Intermediate', 34, 78, 74, 87], ['269', 'Intermediate', 44, 34, 65, 74], ['270', 'Basic', 87, 87, 69, 65], ['271', 'Intermediate', 84, 84, 34, 69], ['272', 'Basic', 67, 23, 45, 34], ['273', 'Basic', 86, 65, 29, 45], ['274', 'Intermediate', 34, 76, 62, 29], ['275', 'Intermediate', 37, 75, 49, 62], ['276', 'Expert', 57, 76, 24, 49], ['277', 'Basic', 72, 54, 26, 24], ['278', 'Intermediate', 37, 46, 21, 26], ['279', 'Expert', 21, 12, 86, 21], ['280', 'Basic', 23, 38, 89, 86], ['281', 'Intermediate', 32, 28, 16, 89], ['282', 'Expert', 32, 42, 69, 16], ['283', 'Intermediate', 22, 77, 88, 69], ['284', 'Basic', 94, 66, 35, 88], ['285', 'Intermediate', 26, 44, 79, 35], ['286', 'Intermediate', 18, 84, 49, 79], ['287', 'Expert', 75, 54, 22, 49], ['288', 'Intermediate', 76, 12, 69, 22], ['289', 'Expert', 54, 76, 54, 69], ['290', 'Intermediate', 46, 82, 90, 54], ['291', 'Intermediate', 12, 36, 69, 90], ['292', 'Intermediate', 38, 29, 87, 69], ['293', 'Intermediate', 28, 80, 79, 87], ['294', 'Basic', 42, 20, 94, 79], ['295', 'Intermediate', 77, 34, 87, 94], ['296', 'Basic', 66, 84, 77, 87], ['297', 'Basic', 44, 21, 14, 77], ['298', 'Intermediate', 84, 39, 17, 14], ['299', 'Basic', 54, 68, 76, 17], ['300', 'Basic', 12, 14, 34, 76]]"
   ]
  },
  {
   "cell_type": "code",
   "execution_count": 162,
   "metadata": {},
   "outputs": [],
   "source": [
    "l_data=pd.DataFrame(y,columns=['SID','BackgroundKnowledge','Active','Sensitive','Global','Visual'])"
   ]
  },
  {
   "cell_type": "code",
   "execution_count": 163,
   "metadata": {},
   "outputs": [
    {
     "data": {
      "text/html": [
       "<div>\n",
       "<style scoped>\n",
       "    .dataframe tbody tr th:only-of-type {\n",
       "        vertical-align: middle;\n",
       "    }\n",
       "\n",
       "    .dataframe tbody tr th {\n",
       "        vertical-align: top;\n",
       "    }\n",
       "\n",
       "    .dataframe thead th {\n",
       "        text-align: right;\n",
       "    }\n",
       "</style>\n",
       "<table border=\"1\" class=\"dataframe\">\n",
       "  <thead>\n",
       "    <tr style=\"text-align: right;\">\n",
       "      <th></th>\n",
       "      <th>SID</th>\n",
       "      <th>BackgroundKnowledge</th>\n",
       "      <th>Active</th>\n",
       "      <th>Sensitive</th>\n",
       "      <th>Global</th>\n",
       "      <th>Visual</th>\n",
       "    </tr>\n",
       "  </thead>\n",
       "  <tbody>\n",
       "    <tr>\n",
       "      <th>0</th>\n",
       "      <td>1</td>\n",
       "      <td>Intermediate</td>\n",
       "      <td>70</td>\n",
       "      <td>40</td>\n",
       "      <td>51</td>\n",
       "      <td>60</td>\n",
       "    </tr>\n",
       "    <tr>\n",
       "      <th>1</th>\n",
       "      <td>2</td>\n",
       "      <td>Intermediate</td>\n",
       "      <td>60</td>\n",
       "      <td>70</td>\n",
       "      <td>40</td>\n",
       "      <td>20</td>\n",
       "    </tr>\n",
       "    <tr>\n",
       "      <th>2</th>\n",
       "      <td>3</td>\n",
       "      <td>Expert</td>\n",
       "      <td>47</td>\n",
       "      <td>62</td>\n",
       "      <td>28</td>\n",
       "      <td>49</td>\n",
       "    </tr>\n",
       "  </tbody>\n",
       "</table>\n",
       "</div>"
      ],
      "text/plain": [
       "  SID BackgroundKnowledge  Active  Sensitive  Global  Visual\n",
       "0   1        Intermediate      70         40      51      60\n",
       "1   2        Intermediate      60         70      40      20\n",
       "2   3              Expert      47         62      28      49"
      ]
     },
     "execution_count": 163,
     "metadata": {},
     "output_type": "execute_result"
    }
   ],
   "source": [
    "l_data.head(3)"
   ]
  },
  {
   "cell_type": "code",
   "execution_count": 164,
   "metadata": {},
   "outputs": [
    {
     "data": {
      "text/html": [
       "<div>\n",
       "<style scoped>\n",
       "    .dataframe tbody tr th:only-of-type {\n",
       "        vertical-align: middle;\n",
       "    }\n",
       "\n",
       "    .dataframe tbody tr th {\n",
       "        vertical-align: top;\n",
       "    }\n",
       "\n",
       "    .dataframe thead th {\n",
       "        text-align: right;\n",
       "    }\n",
       "</style>\n",
       "<table border=\"1\" class=\"dataframe\">\n",
       "  <thead>\n",
       "    <tr style=\"text-align: right;\">\n",
       "      <th></th>\n",
       "      <th>SID</th>\n",
       "      <th>BackgroundKnowledge</th>\n",
       "      <th>Active</th>\n",
       "      <th>Sensitive</th>\n",
       "      <th>Global</th>\n",
       "      <th>Visual</th>\n",
       "    </tr>\n",
       "  </thead>\n",
       "  <tbody>\n",
       "    <tr>\n",
       "      <th>16</th>\n",
       "      <td>17</td>\n",
       "      <td>Intermediate</td>\n",
       "      <td>59</td>\n",
       "      <td>25</td>\n",
       "      <td>25</td>\n",
       "      <td>79</td>\n",
       "    </tr>\n",
       "  </tbody>\n",
       "</table>\n",
       "</div>"
      ],
      "text/plain": [
       "   SID BackgroundKnowledge  Active  Sensitive  Global  Visual\n",
       "16  17        Intermediate      59         25      25      79"
      ]
     },
     "execution_count": 164,
     "metadata": {},
     "output_type": "execute_result"
    }
   ],
   "source": [
    "l_data[l_data['SID']=='17']"
   ]
  },
  {
   "cell_type": "code",
   "execution_count": 165,
   "metadata": {},
   "outputs": [],
   "source": [
    "\n",
    "def findKM():\n",
    "    ldf=l_data\n",
    "    Background=list(ldf['BackgroundKnowledge'].unique())\n",
    "    def findBK(bk):\n",
    "        return Background.index(bk)*100\n",
    "    ldf['BackgroundKnowledge'] =ldf.apply(lambda x: findBK(x['BackgroundKnowledge']), axis=1)\n",
    "    kmeans5 = KMeans(n_clusters=40, random_state=42)\n",
    "    k_predictor= kmeans5.fit(ldf)\n",
    "    ldf['s_class']=k_predictor.predict(ldf)\n",
    "    return ldf"
   ]
  },
  {
   "cell_type": "code",
   "execution_count": 166,
   "metadata": {},
   "outputs": [],
   "source": [
    "l_data=findKM()"
   ]
  },
  {
   "cell_type": "code",
   "execution_count": 167,
   "metadata": {},
   "outputs": [
    {
     "data": {
      "text/html": [
       "<div>\n",
       "<style scoped>\n",
       "    .dataframe tbody tr th:only-of-type {\n",
       "        vertical-align: middle;\n",
       "    }\n",
       "\n",
       "    .dataframe tbody tr th {\n",
       "        vertical-align: top;\n",
       "    }\n",
       "\n",
       "    .dataframe thead th {\n",
       "        text-align: right;\n",
       "    }\n",
       "</style>\n",
       "<table border=\"1\" class=\"dataframe\">\n",
       "  <thead>\n",
       "    <tr style=\"text-align: right;\">\n",
       "      <th></th>\n",
       "      <th>SID</th>\n",
       "      <th>BackgroundKnowledge</th>\n",
       "      <th>Active</th>\n",
       "      <th>Sensitive</th>\n",
       "      <th>Global</th>\n",
       "      <th>Visual</th>\n",
       "      <th>s_class</th>\n",
       "    </tr>\n",
       "  </thead>\n",
       "  <tbody>\n",
       "    <tr>\n",
       "      <th>0</th>\n",
       "      <td>1</td>\n",
       "      <td>0</td>\n",
       "      <td>70</td>\n",
       "      <td>40</td>\n",
       "      <td>51</td>\n",
       "      <td>60</td>\n",
       "      <td>35</td>\n",
       "    </tr>\n",
       "    <tr>\n",
       "      <th>1</th>\n",
       "      <td>2</td>\n",
       "      <td>0</td>\n",
       "      <td>60</td>\n",
       "      <td>70</td>\n",
       "      <td>40</td>\n",
       "      <td>20</td>\n",
       "      <td>2</td>\n",
       "    </tr>\n",
       "    <tr>\n",
       "      <th>2</th>\n",
       "      <td>3</td>\n",
       "      <td>100</td>\n",
       "      <td>47</td>\n",
       "      <td>62</td>\n",
       "      <td>28</td>\n",
       "      <td>49</td>\n",
       "      <td>27</td>\n",
       "    </tr>\n",
       "    <tr>\n",
       "      <th>3</th>\n",
       "      <td>4</td>\n",
       "      <td>200</td>\n",
       "      <td>30</td>\n",
       "      <td>65</td>\n",
       "      <td>36</td>\n",
       "      <td>81</td>\n",
       "      <td>6</td>\n",
       "    </tr>\n",
       "    <tr>\n",
       "      <th>4</th>\n",
       "      <td>5</td>\n",
       "      <td>0</td>\n",
       "      <td>78</td>\n",
       "      <td>34</td>\n",
       "      <td>87</td>\n",
       "      <td>23</td>\n",
       "      <td>2</td>\n",
       "    </tr>\n",
       "    <tr>\n",
       "      <th>...</th>\n",
       "      <td>...</td>\n",
       "      <td>...</td>\n",
       "      <td>...</td>\n",
       "      <td>...</td>\n",
       "      <td>...</td>\n",
       "      <td>...</td>\n",
       "      <td>...</td>\n",
       "    </tr>\n",
       "    <tr>\n",
       "      <th>292</th>\n",
       "      <td>296</td>\n",
       "      <td>200</td>\n",
       "      <td>66</td>\n",
       "      <td>84</td>\n",
       "      <td>77</td>\n",
       "      <td>87</td>\n",
       "      <td>12</td>\n",
       "    </tr>\n",
       "    <tr>\n",
       "      <th>293</th>\n",
       "      <td>297</td>\n",
       "      <td>200</td>\n",
       "      <td>44</td>\n",
       "      <td>21</td>\n",
       "      <td>14</td>\n",
       "      <td>77</td>\n",
       "      <td>24</td>\n",
       "    </tr>\n",
       "    <tr>\n",
       "      <th>294</th>\n",
       "      <td>298</td>\n",
       "      <td>0</td>\n",
       "      <td>84</td>\n",
       "      <td>39</td>\n",
       "      <td>17</td>\n",
       "      <td>14</td>\n",
       "      <td>34</td>\n",
       "    </tr>\n",
       "    <tr>\n",
       "      <th>295</th>\n",
       "      <td>299</td>\n",
       "      <td>200</td>\n",
       "      <td>54</td>\n",
       "      <td>68</td>\n",
       "      <td>76</td>\n",
       "      <td>17</td>\n",
       "      <td>17</td>\n",
       "    </tr>\n",
       "    <tr>\n",
       "      <th>296</th>\n",
       "      <td>300</td>\n",
       "      <td>200</td>\n",
       "      <td>12</td>\n",
       "      <td>14</td>\n",
       "      <td>34</td>\n",
       "      <td>76</td>\n",
       "      <td>24</td>\n",
       "    </tr>\n",
       "  </tbody>\n",
       "</table>\n",
       "<p>297 rows × 7 columns</p>\n",
       "</div>"
      ],
      "text/plain": [
       "     SID  BackgroundKnowledge  Active  Sensitive  Global  Visual  s_class\n",
       "0      1                    0      70         40      51      60       35\n",
       "1      2                    0      60         70      40      20        2\n",
       "2      3                  100      47         62      28      49       27\n",
       "3      4                  200      30         65      36      81        6\n",
       "4      5                    0      78         34      87      23        2\n",
       "..   ...                  ...     ...        ...     ...     ...      ...\n",
       "292  296                  200      66         84      77      87       12\n",
       "293  297                  200      44         21      14      77       24\n",
       "294  298                    0      84         39      17      14       34\n",
       "295  299                  200      54         68      76      17       17\n",
       "296  300                  200      12         14      34      76       24\n",
       "\n",
       "[297 rows x 7 columns]"
      ]
     },
     "execution_count": 167,
     "metadata": {},
     "output_type": "execute_result"
    }
   ],
   "source": [
    "l_data"
   ]
  },
  {
   "cell_type": "code",
   "execution_count": 186,
   "metadata": {},
   "outputs": [],
   "source": [
    "id='199'"
   ]
  },
  {
   "cell_type": "code",
   "execution_count": 187,
   "metadata": {},
   "outputs": [
    {
     "data": {
      "text/plain": [
       "True"
      ]
     },
     "execution_count": 187,
     "metadata": {},
     "output_type": "execute_result"
    }
   ],
   "source": [
    "SID_ARRAY = l_data.groupby('s_class')['SID'].unique()[l_data[l_data['SID']==id]['s_class']]\n",
    "len(SID_ARRAY)>=1\n"
   ]
  },
  {
   "cell_type": "code",
   "execution_count": 185,
   "metadata": {},
   "outputs": [
    {
     "ename": "IndexError",
     "evalue": "single positional indexer is out-of-bounds",
     "output_type": "error",
     "traceback": [
      "\u001b[1;31m---------------------------------------------------------------------------\u001b[0m",
      "\u001b[1;31mIndexError\u001b[0m                                Traceback (most recent call last)",
      "\u001b[1;32m<ipython-input-185-0df1869c9dab>\u001b[0m in \u001b[0;36m<module>\u001b[1;34m\u001b[0m\n\u001b[1;32m----> 1\u001b[1;33m len(SID_ARRAY[l_data[l_data['SID']==id].iloc[0,6]].tolist()\n\u001b[0m\u001b[0;32m      2\u001b[0m )>=1\n",
      "\u001b[1;32m~\\anaconda3\\envs\\leadserver\\lib\\site-packages\\pandas\\core\\indexing.py\u001b[0m in \u001b[0;36m__getitem__\u001b[1;34m(self, key)\u001b[0m\n\u001b[0;32m   1759\u001b[0m                 \u001b[1;32mexcept\u001b[0m \u001b[1;33m(\u001b[0m\u001b[0mKeyError\u001b[0m\u001b[1;33m,\u001b[0m \u001b[0mIndexError\u001b[0m\u001b[1;33m,\u001b[0m \u001b[0mAttributeError\u001b[0m\u001b[1;33m)\u001b[0m\u001b[1;33m:\u001b[0m\u001b[1;33m\u001b[0m\u001b[1;33m\u001b[0m\u001b[0m\n\u001b[0;32m   1760\u001b[0m                     \u001b[1;32mpass\u001b[0m\u001b[1;33m\u001b[0m\u001b[1;33m\u001b[0m\u001b[0m\n\u001b[1;32m-> 1761\u001b[1;33m             \u001b[1;32mreturn\u001b[0m \u001b[0mself\u001b[0m\u001b[1;33m.\u001b[0m\u001b[0m_getitem_tuple\u001b[0m\u001b[1;33m(\u001b[0m\u001b[0mkey\u001b[0m\u001b[1;33m)\u001b[0m\u001b[1;33m\u001b[0m\u001b[1;33m\u001b[0m\u001b[0m\n\u001b[0m\u001b[0;32m   1762\u001b[0m         \u001b[1;32melse\u001b[0m\u001b[1;33m:\u001b[0m\u001b[1;33m\u001b[0m\u001b[1;33m\u001b[0m\u001b[0m\n\u001b[0;32m   1763\u001b[0m             \u001b[1;31m# we by definition only have the 0th axis\u001b[0m\u001b[1;33m\u001b[0m\u001b[1;33m\u001b[0m\u001b[1;33m\u001b[0m\u001b[0m\n",
      "\u001b[1;32m~\\anaconda3\\envs\\leadserver\\lib\\site-packages\\pandas\\core\\indexing.py\u001b[0m in \u001b[0;36m_getitem_tuple\u001b[1;34m(self, tup)\u001b[0m\n\u001b[0;32m   2064\u001b[0m     \u001b[1;32mdef\u001b[0m \u001b[0m_getitem_tuple\u001b[0m\u001b[1;33m(\u001b[0m\u001b[0mself\u001b[0m\u001b[1;33m,\u001b[0m \u001b[0mtup\u001b[0m\u001b[1;33m:\u001b[0m \u001b[0mTuple\u001b[0m\u001b[1;33m)\u001b[0m\u001b[1;33m:\u001b[0m\u001b[1;33m\u001b[0m\u001b[1;33m\u001b[0m\u001b[0m\n\u001b[0;32m   2065\u001b[0m \u001b[1;33m\u001b[0m\u001b[0m\n\u001b[1;32m-> 2066\u001b[1;33m         \u001b[0mself\u001b[0m\u001b[1;33m.\u001b[0m\u001b[0m_has_valid_tuple\u001b[0m\u001b[1;33m(\u001b[0m\u001b[0mtup\u001b[0m\u001b[1;33m)\u001b[0m\u001b[1;33m\u001b[0m\u001b[1;33m\u001b[0m\u001b[0m\n\u001b[0m\u001b[0;32m   2067\u001b[0m         \u001b[1;32mtry\u001b[0m\u001b[1;33m:\u001b[0m\u001b[1;33m\u001b[0m\u001b[1;33m\u001b[0m\u001b[0m\n\u001b[0;32m   2068\u001b[0m             \u001b[1;32mreturn\u001b[0m \u001b[0mself\u001b[0m\u001b[1;33m.\u001b[0m\u001b[0m_getitem_lowerdim\u001b[0m\u001b[1;33m(\u001b[0m\u001b[0mtup\u001b[0m\u001b[1;33m)\u001b[0m\u001b[1;33m\u001b[0m\u001b[1;33m\u001b[0m\u001b[0m\n",
      "\u001b[1;32m~\\anaconda3\\envs\\leadserver\\lib\\site-packages\\pandas\\core\\indexing.py\u001b[0m in \u001b[0;36m_has_valid_tuple\u001b[1;34m(self, key)\u001b[0m\n\u001b[0;32m    700\u001b[0m                 \u001b[1;32mraise\u001b[0m \u001b[0mIndexingError\u001b[0m\u001b[1;33m(\u001b[0m\u001b[1;34m\"Too many indexers\"\u001b[0m\u001b[1;33m)\u001b[0m\u001b[1;33m\u001b[0m\u001b[1;33m\u001b[0m\u001b[0m\n\u001b[0;32m    701\u001b[0m             \u001b[1;32mtry\u001b[0m\u001b[1;33m:\u001b[0m\u001b[1;33m\u001b[0m\u001b[1;33m\u001b[0m\u001b[0m\n\u001b[1;32m--> 702\u001b[1;33m                 \u001b[0mself\u001b[0m\u001b[1;33m.\u001b[0m\u001b[0m_validate_key\u001b[0m\u001b[1;33m(\u001b[0m\u001b[0mk\u001b[0m\u001b[1;33m,\u001b[0m \u001b[0mi\u001b[0m\u001b[1;33m)\u001b[0m\u001b[1;33m\u001b[0m\u001b[1;33m\u001b[0m\u001b[0m\n\u001b[0m\u001b[0;32m    703\u001b[0m             \u001b[1;32mexcept\u001b[0m \u001b[0mValueError\u001b[0m\u001b[1;33m:\u001b[0m\u001b[1;33m\u001b[0m\u001b[1;33m\u001b[0m\u001b[0m\n\u001b[0;32m    704\u001b[0m                 raise ValueError(\n",
      "\u001b[1;32m~\\anaconda3\\envs\\leadserver\\lib\\site-packages\\pandas\\core\\indexing.py\u001b[0m in \u001b[0;36m_validate_key\u001b[1;34m(self, key, axis)\u001b[0m\n\u001b[0;32m   1991\u001b[0m             \u001b[1;32mreturn\u001b[0m\u001b[1;33m\u001b[0m\u001b[1;33m\u001b[0m\u001b[0m\n\u001b[0;32m   1992\u001b[0m         \u001b[1;32melif\u001b[0m \u001b[0mis_integer\u001b[0m\u001b[1;33m(\u001b[0m\u001b[0mkey\u001b[0m\u001b[1;33m)\u001b[0m\u001b[1;33m:\u001b[0m\u001b[1;33m\u001b[0m\u001b[1;33m\u001b[0m\u001b[0m\n\u001b[1;32m-> 1993\u001b[1;33m             \u001b[0mself\u001b[0m\u001b[1;33m.\u001b[0m\u001b[0m_validate_integer\u001b[0m\u001b[1;33m(\u001b[0m\u001b[0mkey\u001b[0m\u001b[1;33m,\u001b[0m \u001b[0maxis\u001b[0m\u001b[1;33m)\u001b[0m\u001b[1;33m\u001b[0m\u001b[1;33m\u001b[0m\u001b[0m\n\u001b[0m\u001b[0;32m   1994\u001b[0m         \u001b[1;32melif\u001b[0m \u001b[0misinstance\u001b[0m\u001b[1;33m(\u001b[0m\u001b[0mkey\u001b[0m\u001b[1;33m,\u001b[0m \u001b[0mtuple\u001b[0m\u001b[1;33m)\u001b[0m\u001b[1;33m:\u001b[0m\u001b[1;33m\u001b[0m\u001b[1;33m\u001b[0m\u001b[0m\n\u001b[0;32m   1995\u001b[0m             \u001b[1;31m# a tuple should already have been caught by this point\u001b[0m\u001b[1;33m\u001b[0m\u001b[1;33m\u001b[0m\u001b[1;33m\u001b[0m\u001b[0m\n",
      "\u001b[1;32m~\\anaconda3\\envs\\leadserver\\lib\\site-packages\\pandas\\core\\indexing.py\u001b[0m in \u001b[0;36m_validate_integer\u001b[1;34m(self, key, axis)\u001b[0m\n\u001b[0;32m   2060\u001b[0m         \u001b[0mlen_axis\u001b[0m \u001b[1;33m=\u001b[0m \u001b[0mlen\u001b[0m\u001b[1;33m(\u001b[0m\u001b[0mself\u001b[0m\u001b[1;33m.\u001b[0m\u001b[0mobj\u001b[0m\u001b[1;33m.\u001b[0m\u001b[0m_get_axis\u001b[0m\u001b[1;33m(\u001b[0m\u001b[0maxis\u001b[0m\u001b[1;33m)\u001b[0m\u001b[1;33m)\u001b[0m\u001b[1;33m\u001b[0m\u001b[1;33m\u001b[0m\u001b[0m\n\u001b[0;32m   2061\u001b[0m         \u001b[1;32mif\u001b[0m \u001b[0mkey\u001b[0m \u001b[1;33m>=\u001b[0m \u001b[0mlen_axis\u001b[0m \u001b[1;32mor\u001b[0m \u001b[0mkey\u001b[0m \u001b[1;33m<\u001b[0m \u001b[1;33m-\u001b[0m\u001b[0mlen_axis\u001b[0m\u001b[1;33m:\u001b[0m\u001b[1;33m\u001b[0m\u001b[1;33m\u001b[0m\u001b[0m\n\u001b[1;32m-> 2062\u001b[1;33m             \u001b[1;32mraise\u001b[0m \u001b[0mIndexError\u001b[0m\u001b[1;33m(\u001b[0m\u001b[1;34m\"single positional indexer is out-of-bounds\"\u001b[0m\u001b[1;33m)\u001b[0m\u001b[1;33m\u001b[0m\u001b[1;33m\u001b[0m\u001b[0m\n\u001b[0m\u001b[0;32m   2063\u001b[0m \u001b[1;33m\u001b[0m\u001b[0m\n\u001b[0;32m   2064\u001b[0m     \u001b[1;32mdef\u001b[0m \u001b[0m_getitem_tuple\u001b[0m\u001b[1;33m(\u001b[0m\u001b[0mself\u001b[0m\u001b[1;33m,\u001b[0m \u001b[0mtup\u001b[0m\u001b[1;33m:\u001b[0m \u001b[0mTuple\u001b[0m\u001b[1;33m)\u001b[0m\u001b[1;33m:\u001b[0m\u001b[1;33m\u001b[0m\u001b[1;33m\u001b[0m\u001b[0m\n",
      "\u001b[1;31mIndexError\u001b[0m: single positional indexer is out-of-bounds"
     ]
    }
   ],
   "source": [
    "len(SID_ARRAY[l_data[l_data['SID']==id].iloc[0,6]].tolist()\n",
    ")>=1"
   ]
  },
  {
   "cell_type": "code",
   "execution_count": 124,
   "metadata": {},
   "outputs": [
    {
     "data": {
      "text/plain": [
       "s_class\n",
       "3    [199, 200, 202, 212, 218, 228, 231, 241]\n",
       "Name: SID, dtype: object"
      ]
     },
     "execution_count": 124,
     "metadata": {},
     "output_type": "execute_result"
    }
   ],
   "source": [
    "SID_ARRAY"
   ]
  },
  {
   "cell_type": "code",
   "execution_count": 158,
   "metadata": {},
   "outputs": [
    {
     "data": {
      "text/plain": [
       "3"
      ]
     },
     "execution_count": 158,
     "metadata": {},
     "output_type": "execute_result"
    }
   ],
   "source": [
    "a=l_data[l_data['SID']==id].iloc[0,7]\n",
    "a"
   ]
  },
  {
   "cell_type": "code",
   "execution_count": 133,
   "metadata": {},
   "outputs": [
    {
     "data": {
      "text/plain": [
       "array(['199', '200', '202', '212', '218', '228', '231', '241'],\n",
       "      dtype=object)"
      ]
     },
     "execution_count": 133,
     "metadata": {},
     "output_type": "execute_result"
    }
   ],
   "source": [
    "SID_ARRAY[3]"
   ]
  },
  {
   "cell_type": "code",
   "execution_count": null,
   "metadata": {},
   "outputs": [],
   "source": []
  }
 ],
 "metadata": {
  "kernelspec": {
   "display_name": "Python 3",
   "language": "python",
   "name": "python3"
  },
  "language_info": {
   "codemirror_mode": {
    "name": "ipython",
    "version": 3
   },
   "file_extension": ".py",
   "mimetype": "text/x-python",
   "name": "python",
   "nbconvert_exporter": "python",
   "pygments_lexer": "ipython3",
   "version": "3.6.10"
  }
 },
 "nbformat": 4,
 "nbformat_minor": 4
}
